{
 "cells": [
  {
   "cell_type": "code",
   "execution_count": 6,
   "id": "649c4e9d",
   "metadata": {},
   "outputs": [
    {
     "name": "stderr",
     "output_type": "stream",
     "text": [
      "specified material (default)  not loaded!\n"
     ]
    }
   ],
   "source": [
    "import torch\n",
    "import torch.nn.functional as F\n",
    "from models import E_3d, PE, BlockMLP\n",
    "from kornia.utils.grid import create_meshgrid3d\n",
    "from einops import rearrange, reduce, repeat\n",
    "import plotly.graph_objects as go\n",
    "import matplotlib.pyplot as plt\n",
    "import time\n",
    "import trimesh\n",
    "import numpy as np\n",
    "import mcubes\n",
    "from metrics import iou\n",
    "\n",
    "\n",
    "device = 'cuda' if torch.cuda.is_available() else 'cpu'\n",
    "\n",
    "input_size = [512 for _ in range(3)]\n",
    "patch_size = [16 for _ in range(3)]\n",
    "n_scales = 4\n",
    "n_layers = 2\n",
    "n_hidden = 8\n",
    "exp_name = f'pyramid{input_size[0]}_{n_scales}scale'\n",
    "\n",
    "n_freq = 5\n",
    "P = torch.cat([E_3d*2**i for i in range(n_freq)], 1)\n",
    "pe = PE(P).to(device)\n",
    "\n",
    "xyz = create_meshgrid3d(patch_size[2], patch_size[1], patch_size[0], device=device)\n",
    "\n",
    "occ_gt = np.unpackbits(np.load(f'occupancies/pyramid_{input_size[0]}.npy')).reshape(*input_size).astype(bool)\n",
    "mesh_gt = trimesh.load('meshes/pyramid.obj', force='mesh', skip_materials=True)\n",
    "# same preprocessing as in preprocess_mesh.py\n",
    "bbox = np.amax(mesh_gt.vertices, 0)-np.amin(mesh_gt.vertices, 0)\n",
    "mesh_whl = bbox/2\n",
    "mesh_gt.vertices -= np.amax(mesh_gt.vertices, 0)-mesh_whl # center the mesh\n",
    "mesh_whl *= 1.02"
   ]
  },
  {
   "cell_type": "code",
   "execution_count": 7,
   "id": "41901049",
   "metadata": {},
   "outputs": [
    {
     "name": "stdout",
     "output_type": "stream",
     "text": [
      "total time 4.362 s\n",
      "IoU 0.999046\n"
     ]
    }
   ],
   "source": [
    "t = time.time()\n",
    "for j in reversed(range(n_scales)):\n",
    "    final_act = 'sigmoid' if j==n_scales-1 else 'sin'\n",
    "    nd = input_size[2]//(patch_size[2]*2**j)\n",
    "    nh = input_size[1]//(patch_size[1]*2**j)\n",
    "    nw = input_size[0]//(patch_size[0]*2**j)\n",
    "    ckpt = torch.load(f'ckpts/{exp_name}/l{j}.ckpt', map_location=torch.device('cpu'))\n",
    "    active_blocks = ckpt['active_blocks']\n",
    "    n_blocks = int(active_blocks.sum())\n",
    "    blockmlp = BlockMLP(n_blocks=n_blocks,\n",
    "                        n_in=pe.out_dim, n_out=1,\n",
    "                        n_layers=n_layers,\n",
    "                        n_hidden=n_hidden,\n",
    "                        final_act=final_act).to(device=device)\n",
    "    blockmlp.load_state_dict(ckpt, strict=False)\n",
    "\n",
    "    xyz_ = repeat(xyz, '1 pd ph pw c -> n (pd ph pw) c', n=n_blocks)\n",
    "    with torch.no_grad():\n",
    "        occ_pred_ = blockmlp(xyz_, b_chunks=512, **{'pe': pe, 'to_cpu': True})\n",
    "        if j <= n_scales-2:\n",
    "            occ_pred_ *= ckpt['scales']\n",
    "    torch.cuda.synchronize()\n",
    "\n",
    "    occ_pred = torch.zeros(nd*nh*nw, np.prod(patch_size), 1)\n",
    "    occ_pred[active_blocks] = occ_pred_\n",
    "    occ_pred = rearrange(occ_pred,\n",
    "                         '(nd nh nw) (pd ph pw) c -> (nd pd) (nh ph) (nw pw) c',\n",
    "                         nd=nd, nh=nh, nw=nw, pd=patch_size[2], ph=patch_size[1], pw=patch_size[0])\n",
    "    if j <= n_scales-2:\n",
    "        occ_pred += I_j_u\n",
    "        occ_pred = np.clip(occ_pred, 0, 1)\n",
    "\n",
    "    if j > 0:\n",
    "        I_j_u = F.interpolate(rearrange(occ_pred, 'd h w c -> 1 c d h w'),\n",
    "                              mode='trilinear',\n",
    "                              scale_factor=2,\n",
    "                              align_corners=True)\n",
    "        I_j_u = rearrange(I_j_u, '1 c d h w -> d h w c')\n",
    "torch.cuda.empty_cache()\n",
    "\n",
    "occ_pred = occ_pred.numpy()[..., 0]\n",
    "print(f'total time {time.time()-t:.3f} s')\n",
    "print(f'IoU {iou(occ_pred, occ_gt):.6f}')\n",
    "del occ_gt, I_j_u, ckpt, active_blocks, blockmlp, P, pe, xyz, xyz_"
   ]
  },
  {
   "cell_type": "code",
   "execution_count": 8,
   "id": "ee394a1b",
   "metadata": {},
   "outputs": [
    {
     "name": "stdout",
     "output_type": "stream",
     "text": [
      "mesh contains 3293724 vertices and 6644160 triangles\n"
     ]
    }
   ],
   "source": [
    "# create prediction mesh using marching cubes\n",
    "vertices, triangles = mcubes.marching_cubes(occ_pred, 0.5)\n",
    "vertices -= input_size[0]/2\n",
    "vertices /= input_size[0]/2\n",
    "vertices = vertices[:, [1, 0, 2]] # switch axes\n",
    "vertices *= mesh_whl\n",
    "\n",
    "print(f'mesh contains {len(vertices)} vertices and {len(triangles)} triangles')\n",
    "\n",
    "# # compute chamfer distance (not yet...) use surface sample points!!\n",
    "# with torch.no_grad():\n",
    "#     chamfer_l1 = \\\n",
    "#         chamfer_distance(torch.FloatTensor(mesh_gt.vertices).unsqueeze(0).cuda(),\n",
    "#                          torch.FloatTensor(vertices).unsqueeze(0).cuda(),\n",
    "#                          squared=False)\n",
    "# chamfer_l1 = chamfer_l1.item()*1e4/mesh_whl.max()\n",
    "# print(f'Chamfer L1 {chamfer_l1:.4f}e-4')\n",
    "# torch.cuda.empty_cache()"
   ]
  },
  {
   "cell_type": "markdown",
   "id": "13c903aa",
   "metadata": {},
   "source": [
    "# Visualize block decomposition"
   ]
  },
  {
   "cell_type": "code",
   "execution_count": 9,
   "id": "f7212b40",
   "metadata": {},
   "outputs": [],
   "source": [
    "from collections import defaultdict\n",
    "m = defaultdict(list)\n",
    "\n",
    "for l in reversed(range(n_scales)):\n",
    "    rw, rh, rd = patch_size[0]*2**l, patch_size[1]*2**l, patch_size[2]*2**l\n",
    "    ckpt = torch.load(f'ckpts/{exp_name}/l{l}.ckpt', map_location=torch.device('cpu'))\n",
    "    training_blocks = np.ones((input_size[2]//rd, input_size[1]//rh, input_size[0]//rw), bool)\n",
    "    active_blocks = ckpt['active_blocks'].numpy().reshape(*training_blocks.shape)\n",
    "    training_blocks[active_blocks] = 0 # converged\n",
    "\n",
    "    for k in range(training_blocks.shape[0]):\n",
    "        for j in range(training_blocks.shape[1]):\n",
    "            for i in range(training_blocks.shape[2]):\n",
    "                if not training_blocks[k, j, i]:\n",
    "                    m[f'x{l}'] += [(np.array([0, 0, 1, 1, 0, 0, 1, 1])+i)*rw]\n",
    "                    m[f'y{l}'] += [(np.array([0, 1, 1, 0, 0, 1, 1, 0])+j)*rh]\n",
    "                    m[f'z{l}'] += [(np.array([0, 0, 0, 0, 1, 1, 1, 1])+k)*rd]\n",
    "                    m[f'i{l}'] += [np.array([7, 0, 0, 0, 4, 4, 6, 6, 4, 0, 3, 2])+len(m[f'i{l}'])*8]\n",
    "                    m[f'j{l}'] += [np.array([3, 4, 1, 2, 5, 6, 5, 2, 0, 1, 6, 3])+len(m[f'j{l}'])*8]\n",
    "                    m[f'k{l}'] += [np.array([0, 7, 2, 3, 6, 7, 1, 1, 5, 5, 7, 6])+len(m[f'k{l}'])*8]"
   ]
  },
  {
   "cell_type": "code",
   "execution_count": null,
   "id": "ebaaf00f",
   "metadata": {},
   "outputs": [],
   "source": [
    "COLORS = ['red', 'green', 'blue', 'cyan', 'magenta'] # colors for each scale\n",
    "\n",
    "fig = go.Figure()\n",
    "\n",
    "if len(vertices) < 3e6:\n",
    "    fig.add_trace(\n",
    "        go.Mesh3d(\n",
    "            x=vertices[:, 2],\n",
    "            y=vertices[:, 0],\n",
    "            z=vertices[:, 1],\n",
    "            i=triangles[:, 0],\n",
    "            j=triangles[:, 1],\n",
    "            k=triangles[:, 2],\n",
    "            color='lightgray',\n",
    "            name='mesh',\n",
    "            showlegend=True,\n",
    "        )\n",
    "    )\n",
    "\n",
    "for l in reversed(range(n_scales)):\n",
    "    fig.add_trace(\n",
    "        go.Mesh3d(\n",
    "            x=(np.concatenate(m[f'x{l}'])-input_size[0]/2)*2*mesh_whl[2]/input_size[0],\n",
    "            y=(np.concatenate(m[f'y{l}'])-input_size[1]/2)*2*mesh_whl[0]/input_size[1],\n",
    "            z=(np.concatenate(m[f'z{l}'])-input_size[2]/2)*2*mesh_whl[1]/input_size[2],\n",
    "            i=np.concatenate(m[f'i{l}']),\n",
    "            j=np.concatenate(m[f'j{l}']),\n",
    "            k=np.concatenate(m[f'k{l}']),\n",
    "            color=COLORS[l],\n",
    "            name=f'scale {l}',\n",
    "            showlegend=True,\n",
    "            opacity=0.2\n",
    "        )\n",
    "    )\n",
    "\n",
    "fig.update_layout(\n",
    "    scene_camera=dict(\n",
    "        up=dict(x=0, y=0, z=1),\n",
    "        center=dict(x=0, y=0, z=0),\n",
    "        eye=dict(x=1.5, y=1.5, z=1.5)\n",
    "    ),\n",
    "    scene_dragmode='orbit',\n",
    "    title={\n",
    "        'text': exp_name,\n",
    "        'y': 0.9,\n",
    "        'x': 0.5}\n",
    ")\n",
    "\n",
    "fig.show()"
   ]
  },
  {
   "cell_type": "code",
   "execution_count": null,
   "id": "3f7de42f",
   "metadata": {},
   "outputs": [],
   "source": []
  }
 ],
 "metadata": {
  "kernelspec": {
   "display_name": "Python 3 (ipykernel)",
   "language": "python",
   "name": "python3"
  },
  "language_info": {
   "codemirror_mode": {
    "name": "ipython",
    "version": 3
   },
   "file_extension": ".py",
   "mimetype": "text/x-python",
   "name": "python",
   "nbconvert_exporter": "python",
   "pygments_lexer": "ipython3",
   "version": "3.8.13"
  }
 },
 "nbformat": 4,
 "nbformat_minor": 5
}
